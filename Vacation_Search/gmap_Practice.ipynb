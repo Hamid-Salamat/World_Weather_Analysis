{
 "cells": [
  {
   "cell_type": "code",
   "execution_count": 6,
   "id": "a1d2dac5",
   "metadata": {},
   "outputs": [],
   "source": [
    "# Import the dependencies.\n",
    "import pandas as pd\n",
    "import gmaps\n",
    "import gmaps.datasets\n",
    "import requests\n",
    "# Import the API key.\n",
    "from config import g_key"
   ]
  },
  {
   "cell_type": "code",
   "execution_count": 29,
   "id": "022d1994",
   "metadata": {
    "scrolled": false
   },
   "outputs": [
    {
     "data": {
      "text/html": [
       "<div>\n",
       "<style scoped>\n",
       "    .dataframe tbody tr th:only-of-type {\n",
       "        vertical-align: middle;\n",
       "    }\n",
       "\n",
       "    .dataframe tbody tr th {\n",
       "        vertical-align: top;\n",
       "    }\n",
       "\n",
       "    .dataframe thead th {\n",
       "        text-align: right;\n",
       "    }\n",
       "</style>\n",
       "<table border=\"1\" class=\"dataframe\">\n",
       "  <thead>\n",
       "    <tr style=\"text-align: right;\">\n",
       "      <th></th>\n",
       "      <th>latitude</th>\n",
       "      <th>longitude</th>\n",
       "      <th>magnitude</th>\n",
       "    </tr>\n",
       "  </thead>\n",
       "  <tbody>\n",
       "    <tr>\n",
       "      <th>0</th>\n",
       "      <td>65.193300</td>\n",
       "      <td>-149.072500</td>\n",
       "      <td>1.70</td>\n",
       "    </tr>\n",
       "    <tr>\n",
       "      <th>1</th>\n",
       "      <td>38.791832</td>\n",
       "      <td>-122.780830</td>\n",
       "      <td>2.10</td>\n",
       "    </tr>\n",
       "    <tr>\n",
       "      <th>2</th>\n",
       "      <td>38.818001</td>\n",
       "      <td>-122.792168</td>\n",
       "      <td>0.48</td>\n",
       "    </tr>\n",
       "    <tr>\n",
       "      <th>3</th>\n",
       "      <td>33.601667</td>\n",
       "      <td>-116.727667</td>\n",
       "      <td>0.78</td>\n",
       "    </tr>\n",
       "    <tr>\n",
       "      <th>4</th>\n",
       "      <td>37.378334</td>\n",
       "      <td>-118.520836</td>\n",
       "      <td>3.64</td>\n",
       "    </tr>\n",
       "    <tr>\n",
       "      <th>...</th>\n",
       "      <td>...</td>\n",
       "      <td>...</td>\n",
       "      <td>...</td>\n",
       "    </tr>\n",
       "    <tr>\n",
       "      <th>8599</th>\n",
       "      <td>19.331500</td>\n",
       "      <td>-155.182200</td>\n",
       "      <td>0.80</td>\n",
       "    </tr>\n",
       "    <tr>\n",
       "      <th>8600</th>\n",
       "      <td>41.819700</td>\n",
       "      <td>-119.622400</td>\n",
       "      <td>2.20</td>\n",
       "    </tr>\n",
       "    <tr>\n",
       "      <th>8601</th>\n",
       "      <td>38.771999</td>\n",
       "      <td>-122.720497</td>\n",
       "      <td>1.91</td>\n",
       "    </tr>\n",
       "    <tr>\n",
       "      <th>8602</th>\n",
       "      <td>34.608333</td>\n",
       "      <td>-118.641333</td>\n",
       "      <td>1.93</td>\n",
       "    </tr>\n",
       "    <tr>\n",
       "      <th>8603</th>\n",
       "      <td>41.905500</td>\n",
       "      <td>-119.625000</td>\n",
       "      <td>4.21</td>\n",
       "    </tr>\n",
       "  </tbody>\n",
       "</table>\n",
       "<p>8604 rows × 3 columns</p>\n",
       "</div>"
      ],
      "text/plain": [
       "       latitude   longitude  magnitude\n",
       "0     65.193300 -149.072500       1.70\n",
       "1     38.791832 -122.780830       2.10\n",
       "2     38.818001 -122.792168       0.48\n",
       "3     33.601667 -116.727667       0.78\n",
       "4     37.378334 -118.520836       3.64\n",
       "...         ...         ...        ...\n",
       "8599  19.331500 -155.182200       0.80\n",
       "8600  41.819700 -119.622400       2.20\n",
       "8601  38.771999 -122.720497       1.91\n",
       "8602  34.608333 -118.641333       1.93\n",
       "8603  41.905500 -119.625000       4.21\n",
       "\n",
       "[8604 rows x 3 columns]"
      ]
     },
     "execution_count": 29,
     "metadata": {},
     "output_type": "execute_result"
    }
   ],
   "source": [
    "gmaps.configure(api_key=g_key)\n",
    "earthquake_df = gmaps.datasets.load_dataset_as_df('earthquakes')\n",
    "earthquake_df"
   ]
  },
  {
   "cell_type": "code",
   "execution_count": 41,
   "id": "66cbba72",
   "metadata": {},
   "outputs": [
    {
     "data": {
      "application/vnd.jupyter.widget-view+json": {
       "model_id": "bb16acd7a1574406ae4ff65e8f50e479",
       "version_major": 2,
       "version_minor": 0
      },
      "text/plain": [
       "Figure(layout=FigureLayout(height='420px'))"
      ]
     },
     "metadata": {},
     "output_type": "display_data"
    }
   ],
   "source": [
    "locations = earthquake_df[['latitude','longitude']]\n",
    "weights=earthquake_df['magnitude']\n",
    "fig =gmaps.figure()\n",
    "fig.add_layer(gmaps.heatmap_layer(locations,weights=weights))\n",
    "fig"
   ]
  },
  {
   "cell_type": "code",
   "execution_count": 43,
   "id": "fdec4a36",
   "metadata": {},
   "outputs": [
    {
     "data": {
      "application/vnd.jupyter.widget-view+json": {
       "model_id": "4489e2fa06644beb8d3cc0fc0b39e3c8",
       "version_major": 2,
       "version_minor": 0
      },
      "text/plain": [
       "Figure(layout=FigureLayout(height='420px'))"
      ]
     },
     "metadata": {},
     "output_type": "display_data"
    }
   ],
   "source": [
    "locations =[(51.5,0.1),(57.7,0.2),(51.4,-0.2),(51.49,0.1)]\n",
    "heatmap_layer = gmaps.heatmap_layer(locations)\n",
    "fig =gmaps.figure()\n",
    "fig.add_layer(heatmap_layer)\n",
    "fig"
   ]
  },
  {
   "cell_type": "code",
   "execution_count": 64,
   "id": "2cc56032",
   "metadata": {},
   "outputs": [
    {
     "data": {
      "application/vnd.jupyter.widget-view+json": {
       "model_id": "5c9c8d23141949d0a0e1839e97e007ed",
       "version_major": 2,
       "version_minor": 0
      },
      "text/plain": [
       "Figure(layout=FigureLayout(height='420px'))"
      ]
     },
     "metadata": {},
     "output_type": "display_data"
    }
   ],
   "source": [
    "tehran_coordinates = (35.6892, 51.3890)\n",
    "#The 'map_type' trait of a Figure instance expected any of ['ROADMAP', 'HYBRID', 'TERRAIN', 'SATELLITE']\n",
    "gmaps.figure(center= tehran_coordinates,zoom_level=13,map_type='TERRAIN')"
   ]
  },
  {
   "cell_type": "code",
   "execution_count": 67,
   "id": "b8184092",
   "metadata": {},
   "outputs": [
    {
     "data": {
      "application/vnd.jupyter.widget-view+json": {
       "model_id": "60ae30934ddf4b4d827298d2ccd17a73",
       "version_major": 2,
       "version_minor": 0
      },
      "text/plain": [
       "Figure(layout=FigureLayout(border='3px solid red', height='450px', padding='3px', width='450px'))"
      ]
     },
     "metadata": {},
     "output_type": "display_data"
    }
   ],
   "source": [
    "figure_layout = {\n",
    "    'width':\"450px\",\n",
    "    'height':\"450px\",\n",
    "    'border':'3px solid red',\n",
    "    'padding':'3px'\n",
    "}\n",
    "gmaps.figure(layout=figure_layout,center= tehran_coordinates,zoom_level=12,map_type='HYBRID')"
   ]
  },
  {
   "cell_type": "code",
   "execution_count": 89,
   "id": "bbe74cc6",
   "metadata": {},
   "outputs": [
    {
     "data": {
      "application/vnd.jupyter.widget-view+json": {
       "model_id": "1bfad947133d4951abc27dcc648cc730",
       "version_major": 2,
       "version_minor": 0
      },
      "text/plain": [
       "Figure(layout=FigureLayout(border='3px solid red', height='450px', padding='3px', width='450px'))"
      ]
     },
     "metadata": {},
     "output_type": "display_data"
    }
   ],
   "source": [
    "figure_layout = {\n",
    "    'width':\"450px\",\n",
    "    'height':\"450px\",\n",
    "    'border':'3px solid red',\n",
    "    'padding':'3px'\n",
    "}\n",
    "fig = gmaps.figure(layout=figure_layout,map_type='HYBRID',zoom_level=4,center=(16.46,10.82))\n",
    "\n",
    "locations= gmaps.datasets.load_dataset_as_df('acled_africa')\n",
    "heatmap_layer = gmaps.heatmap_layer(locations=locations)\n",
    "heatmap_layer.gradient=[\n",
    "    'white',\n",
    "    'silver',\n",
    "    'gray',\n",
    "]\n",
    "#heatmap_layer.max_intensity=100\n",
    "#heatmap_layer.point_radius = 5\n",
    "fig.add_layer(heatmap_layer)\n",
    "fig"
   ]
  },
  {
   "cell_type": "code",
   "execution_count": 90,
   "id": "a1aa986c",
   "metadata": {},
   "outputs": [
    {
     "data": {
      "application/vnd.jupyter.widget-view+json": {
       "model_id": "79d9bafe56ab4a31a787e30cefa633d6",
       "version_major": 2,
       "version_minor": 0
      },
      "text/plain": [
       "Figure(layout=FigureLayout(height='420px'))"
      ]
     },
     "metadata": {},
     "output_type": "display_data"
    }
   ],
   "source": [
    "marker_locations = [\n",
    "(-34.0, -59.166672),\n",
    "(-32.23333, -64.433327),\n",
    "(40.166672, 44.133331),\n",
    "(51.216671, 5.0833302),\n",
    "(51.333328, 4.25)\n",
    "]\n",
    "fig = gmaps.figure()\n",
    "markers = gmaps.marker_layer(marker_locations)\n",
    "fig.add_layer(markers)\n",
    "fig"
   ]
  },
  {
   "cell_type": "code",
   "execution_count": 95,
   "id": "1b66369f",
   "metadata": {},
   "outputs": [
    {
     "name": "stdout",
     "output_type": "stream",
     "text": [
      "[{'name': 'Atucha', 'location': (-34.0, -59.167), 'active_reactors': 1}, {'name': 'Embalse', 'location': (-32.2333, -64.4333), 'active_reactors': 1}, {'name': 'Armenia', 'location': (40.167, 44.133), 'active_reactors': 1}, {'name': 'Br', 'location': (51.217, 5.083), 'active_reactors': 1}, {'name': 'Doel', 'location': (51.333, 4.25), 'active_reactors': 4}, {'name': 'Tihange', 'location': (50.517, 5.283), 'active_reactors': 3}]\n",
      "[(-34.0, -59.167), (-32.2333, -64.4333), (40.167, 44.133), (51.217, 5.083), (51.333, 4.25), (50.517, 5.283)]\n",
      "\n",
      "<dl>\n",
      "<dt>Name</dt><dd>{name}</dd>\n",
      "<dt>Number reactors</dt><dd>{active_reactors}</dd>\n",
      "</dl>\n",
      "\n",
      "['\\n<dl>\\n<dt>Name</dt><dd>Atucha</dd>\\n<dt>Number reactors</dt><dd>1</dd>\\n</dl>\\n', '\\n<dl>\\n<dt>Name</dt><dd>Embalse</dd>\\n<dt>Number reactors</dt><dd>1</dd>\\n</dl>\\n', '\\n<dl>\\n<dt>Name</dt><dd>Armenia</dd>\\n<dt>Number reactors</dt><dd>1</dd>\\n</dl>\\n', '\\n<dl>\\n<dt>Name</dt><dd>Br</dd>\\n<dt>Number reactors</dt><dd>1</dd>\\n</dl>\\n', '\\n<dl>\\n<dt>Name</dt><dd>Doel</dd>\\n<dt>Number reactors</dt><dd>4</dd>\\n</dl>\\n', '\\n<dl>\\n<dt>Name</dt><dd>Tihange</dd>\\n<dt>Number reactors</dt><dd>3</dd>\\n</dl>\\n']\n"
     ]
    },
    {
     "data": {
      "application/vnd.jupyter.widget-view+json": {
       "model_id": "816fce49cc314222901105ff952f3dab",
       "version_major": 2,
       "version_minor": 0
      },
      "text/plain": [
       "Figure(layout=FigureLayout(height='420px'))"
      ]
     },
     "metadata": {},
     "output_type": "display_data"
    }
   ],
   "source": [
    "nuclear_power_plants = [\n",
    "{'name': 'Atucha', 'location': (-34.0, -59.167), 'active_reactors': 1},\n",
    "{'name': 'Embalse', 'location': (-32.2333, -64.4333), 'active_reactors': 1},\n",
    "{'name': 'Armenia', 'location': (40.167, 44.133), 'active_reactors': 1},\n",
    "{'name': 'Br', 'location': (51.217, 5.083), 'active_reactors': 1},\n",
    "{'name': 'Doel', 'location': (51.333, 4.25), 'active_reactors': 4},\n",
    "{'name': 'Tihange', 'location': (50.517, 5.283), 'active_reactors': 3}\n",
    "]\n",
    "print (nuclear_power_plants)\n",
    "plant_locations = [plant['location'] for plant in nuclear_power_plants]\n",
    "print (plant_locations)\n",
    "info_box_template = \"\"\"\n",
    "<dl>\n",
    "<dt>Name</dt><dd>{name}</dd>\n",
    "<dt>Number reactors</dt><dd>{active_reactors}</dd>\n",
    "</dl>\n",
    "\"\"\"\n",
    "print(info_box_template)\n",
    "\n",
    "plant_info = [info_box_template.format(**plant) for plant in nuclear_power_plants]\n",
    "print(plant_info)\n",
    "marker_layer = gmaps.marker_layer(plant_locations, info_box_content=plant_info)\n",
    "fig = gmaps.figure()\n",
    "fig.add_layer(marker_layer)\n",
    "fig"
   ]
  },
  {
   "cell_type": "code",
   "execution_count": null,
   "id": "feab29b8",
   "metadata": {},
   "outputs": [],
   "source": []
  }
 ],
 "metadata": {
  "kernelspec": {
   "display_name": "PythonData",
   "language": "python",
   "name": "pythondata"
  },
  "language_info": {
   "codemirror_mode": {
    "name": "ipython",
    "version": 3
   },
   "file_extension": ".py",
   "mimetype": "text/x-python",
   "name": "python",
   "nbconvert_exporter": "python",
   "pygments_lexer": "ipython3",
   "version": "3.7.11"
  }
 },
 "nbformat": 4,
 "nbformat_minor": 5
}
